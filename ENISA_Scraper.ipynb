{
 "cells": [
  {
   "cell_type": "code",
   "execution_count": 14,
   "metadata": {},
   "outputs": [],
   "source": [
    "import pandas as pd\n",
    "from urllib.request import urlopen\n",
    "from bs4 import BeautifulSoup\n",
    "\n",
    "# Definimos URL Base\n",
    "urlbase = 'https://www.enisa.es/es/comunidad-enisa/prestamos/searchresult?pag='\n",
    "\n",
    "i=1\n",
    "\n",
    "# Iteramos para las primeras 10 páginas de resultado de búsqueda - por tanto los 120 préstamos más recientes\n",
    "while i<11:\n",
    "    # Construimos la URL\n",
    "    url = urlbase + str(i)\n",
    "    #print(url)\n",
    "    try:\n",
    "     page = urlopen(url)\n",
    "    except:\n",
    "     print('Error opening the URL')\n",
    "\n",
    "    # Creamos el objeto bs para la URL\n",
    "    soup = BeautifulSoup(page,'html.parser', from_encoding='utf-8')\n",
    "\n",
    "    # Ponemos foco en el area que nos interesa\n",
    "    t_row_header = soup.find_all('th')\n",
    "    t_row_data = soup.find_all('td')\n",
    "    \n",
    "    # Condicion de salida\n",
    "    if (len(t_row_data)==0): break\n",
    "    \n",
    "    header = []\n",
    "    data = {}\n",
    "    \n",
    "    # En la primera iteración leemos cabecera y creamos dataframe\n",
    "    if i==1:\n",
    "        for row in t_row_header:\n",
    "            h = str.strip(row.p.text)\n",
    "            header.append(h)\n",
    "\n",
    "        df_enisa = pd.DataFrame(columns=header)\n",
    "    \n",
    "    # Empezamos a iterar para todas las filas con contenido de la página\n",
    "    # Guardamos la info en el dataframe\n",
    "    for row in t_row_data:\n",
    "        col=str.strip(row.b.text)\n",
    "        value=str.strip(row.div.find(text=True, recursive=False))\n",
    "        data[col]=value\n",
    "        if col=='CC.AA.': \n",
    "            df_enisa=df_enisa.append(data, ignore_index=True)\n",
    "            data = {}\n",
    "\n",
    "    i=i+1\n",
    "\n",
    "# Creamos el CSV con los datos\n",
    "df_enisa.to_csv('df_enisa.csv', sep=\";\", na_rep= \"\",)\n"
   ]
  }
 ],
 "metadata": {
  "kernelspec": {
   "display_name": "Python 3",
   "language": "python",
   "name": "python3"
  },
  "language_info": {
   "codemirror_mode": {
    "name": "ipython",
    "version": 3
   },
   "file_extension": ".py",
   "mimetype": "text/x-python",
   "name": "python",
   "nbconvert_exporter": "python",
   "pygments_lexer": "ipython3",
   "version": "3.9.1"
  }
 },
 "nbformat": 4,
 "nbformat_minor": 4
}
